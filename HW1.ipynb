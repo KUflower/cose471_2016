{
 "metadata": {
  "name": ""
 },
 "nbformat": 3,
 "nbformat_minor": 0,
 "worksheets": [
  {
   "cells": [
    {
     "cell_type": "markdown",
     "metadata": {},
     "source": [
      "# COSE 471 Data Science\n",
      "## Homework Week2-3\n",
      "\n",
      "- Week 2 : Data and Visual Attributes / Statistical Graphs\n",
      "- Week 3 : Data Munging\n",
      "\n",
      "--------------------------------------\n",
      "\n",
      "__ Ready to enjoy python for data mining __\n",
      "1.  install [python](https://www.python.org/)\n",
      "\n",
      "2. install libraries\n",
      "     - install [anaconda](https://www.continuum.io/downloads) for science, math, and data analysis.\n",
      "\n",
      "     - _or_ install libraries\n",
      "         - [numpy](http://docs.scipy.org/doc/numpy-dev/user/index.html), fot arrays\n",
      "         - [pandans](http://pandas.pydata.org/), for data frames\n",
      "         - [matplotlib](http://matplotlib.org/), for plotting\n",
      "         - [requests](http://docs.python-requests.org/en/latest/), for fetching web content\n",
      "         - [pattern](http://www.clips.ua.ac.be/pages/pattern) or [beautiful soup](http://www.crummy.com/software/BeautifulSoup/bs4/doc/), for parsing html and xml pages\n",
      "         - [fnmatch](https://docs.python.org/2/library/fnmatch.html) (optional), for Unix-style string matching\n",
      "         \n",
      "------------------------------------------"
     ]
    },
    {
     "cell_type": "code",
     "collapsed": false,
     "input": [
      "# check all libararies are installed\n",
      "import requests\n",
      "import re\n",
      "from pattern import web"
     ],
     "language": "python",
     "metadata": {},
     "outputs": []
    },
    {
     "cell_type": "markdown",
     "metadata": {},
     "source": [
      "# Collect and Clean Data"
     ]
    },
    {
     "cell_type": "markdown",
     "metadata": {},
     "source": [
      "If you want to analysis data, first you would collect and clean data.\n",
      "\n",
      "> Choose whiche domain has the data\n",
      ">\n",
      "> Recognize web page architecture to collect each movie (entity)\n",
      ">\n",
      ">> Analysis HTML code hierarchy or structure\n",
      ">>\n",
      ">> Extract the useful or necessary data\n",
      ">>\n",
      ">>> Formatting, Cleaning, and Sampling data\n",
      ">>> \n",
      ">>> Scaling, Decomposition, Aggregation\n",
      "\n",
      "\n",
      "In this homwork, we will analysis movie review data in [IMDB](http://www.imdb.com/) "
     ]
    },
    {
     "cell_type": "markdown",
     "metadata": {},
     "source": [
      "### Problem 1\n",
      "\n",
      "To collect movie data, we will implement the function fetching the detail page of movie review.\n",
      "\n",
      "Page URL is like below.\n",
      "\n",
      "| Movie Title | Detail page URL |\n",
      "|------------------------|----------------------------------|\n",
      "|The Dark Knight (2008)|http://www.imdb.com/title/tt0468569/|\n",
      "|Inception (2010)|http://www.imdb.com/title/tt1375666/|\n",
      "|Interstellar (2014) |http://www.imdb.com/title/tt0816692/|\n",
      "|Avengers: Age of Ultron (2015)|http://www.imdb.com/title/tt2395427/|\n",
      "| ..... | .....|\n",
      "\n",
      "As you can see, The detail pages of movie review have similar pattern. \n",
      "\n",
      "-------------------------"
     ]
    },
    {
     "cell_type": "markdown",
     "metadata": {},
     "source": [
      "\n",
      "Fill in the code for the __get_movie_detaill_page(movie_id)__, that fetches HTML page about the movie of which id is __movie_id__ ( _tt0468569_ is the movie id of 'The Dark Knight' )"
     ]
    },
    {
     "cell_type": "code",
     "collapsed": false,
     "input": [
      "\"\"\"\n",
      "@Function\n",
      "get_movie_detaill_page\n",
      "\n",
      "Given a movie_id, return the HTML document.\n",
      "\n",
      "@Inputs\n",
      "__\n",
      "movie_id : str\n",
      "    The ID of the movie to be fetched\n",
      "\n",
      "@Returns\n",
      "___\n",
      "html : str\n",
      "    The HTML string for that movie_id\n",
      "    \n",
      "@Example\n",
      "___\n",
      ">>> get_movie_html('tt0468569')\n",
      "u'<html xmlns:og=\"http://ogp.me/ns#\" xmlns:fb=\"http://www.facebook.com/2008/fbml\">\n",
      "....\n",
      "\"\"\"\n",
      "\n",
      "def get_movie_detaill_page(movie_id):\n",
      "    # your code here "
     ],
     "language": "python",
     "metadata": {},
     "outputs": []
    },
    {
     "cell_type": "code",
     "collapsed": false,
     "input": [
      "#test\n",
      "\"\"\"\n",
      "Expected Result\n",
      "--> u'\\n\\n\\n\\n\\n\\n\\n<!DOCTYPE html>\\n<html\\nxmlns:og=\"http://ogp.me/ns#\"\\nxmlns:fb=\"http://www.facebook.co..........\n",
      "\"\"\"\n",
      "\n",
      "test_html = get_movie_detaill_page('tt0816692') #interstellar (2016)\n",
      "test_html"
     ],
     "language": "python",
     "metadata": {},
     "outputs": []
    },
    {
     "cell_type": "markdown",
     "metadata": {},
     "source": [
      "### Problem 2\n",
      "\n",
      "\uc601\ud654\uc758 movie_id\ub9cc \uc54c\uba74 \uc6b0\ub9ac\ub294 \uc601\ud654\uc758 \uc0c1\uc138 \ud398\uc774\uc9c0\ub97c \uc218\uc9d1\ud560 \uc218 \uc788\uac8c \ub418\uc5c8\uc74c.\n",
      "\ud558\uc9c0\ub9cc HTML\uc740 \ub370\uc774\ud130 \ubd84\uc11d\uc5d0 \ubd88\ud544\uc694\ud55c \uc815\ubcf4\ub4e4\uc744 \ub9ce\uc774 \ud3ec\ud568\ud558\uace0 \uc788\uc73c\uba70, \uc6b0\ub9ac\ub294 fetch\ud55c HTML\uc5d0\uc11c \uc6b0\ub9ac\uac00 \ud544\uc694\ud55c \uc815\ubcf4\ub9cc\uc744 \ucd94\ucd9c\ud558\ub294 1\ucc28 data cleaning\ub97c \uc218\ud589\ud574\uc57c\ud568.\n",
      "\n",
      "http://www.clips.ua.ac.be/pages/pattern-web > HTML DOM parser \ucc38\uace0\n",
      "(css selector query\uc640 \ub3d9\uc77c)"
     ]
    },
    {
     "cell_type": "code",
     "collapsed": false,
     "input": [
      "def str2number(number_str):\n",
      "    if number_str is None:\n",
      "        return None\n",
      "    else:\n",
      "        number_str = re.sub(\"[^0-9]\", \"\", number_str)\n",
      "        return int(number_str)\n",
      "\n",
      "time_p = re.compile(\"(.*?)h (.*?)min\")\n",
      "def str2time(time_str):\n",
      "    m = time_p.match(time_str)\n",
      "    \n",
      "    if m:  # include hour\n",
      "        hour = int(m.group(1))\n",
      "        minute = int(m.group(2))\n",
      "        \n",
      "        time = (hour *60) + minute\n",
      "    else: # not include hour, only minute\n",
      "        time = str2number(time_str)\n",
      "        \n",
      "    return time"
     ],
     "language": "python",
     "metadata": {},
     "outputs": []
    },
    {
     "cell_type": "markdown",
     "metadata": {},
     "source": [
      "HTML parser\ub97c \uc0ac\uc6a9\ud560 \uacbd\uc6b0, \ud30c\uc2f1\ub41c \uacb0\uacfc\ub294 \ubaa8\ub450 str \ub370\uc774\ud130 \ud0c0\uc785\uc774\ub2e4.\n",
      "\ub370\uc774\ud130 \ubd84\uc11d\uc5d0 \uc801\ud569\ud558\ub3c4\ub85d \uc704 \ub450 \ud568\uc218\ub97c \uc774\uc6a9\ud558\uc5ec \uc6d0\ud558\ub294 \ub370\uc774\ud130 \ud615\uc2dd\uc73c\ub85c casting\ud558\uc790."
     ]
    },
    {
     "cell_type": "code",
     "collapsed": false,
     "input": [
      "\"\"\"\n",
      "@Function\n",
      "parsing_detail_page\n",
      "\n",
      "Given a HTML string, return the useful data.\n",
      "\n",
      "@Inputs\n",
      "---\n",
      "html: str\n",
      "    The HTML for the movie_id\n",
      "\n",
      "@Returns\n",
      "----\n",
      "object: dict (all value is str, not casting!)\n",
      "    {\n",
      "     'duration': [:int],\n",
      "     'genre': [:list]    ex. [u'Adventure', u'Drama', u'Sci-Fi'],\n",
      "     'rating': [:float],\n",
      "     'rating_count': [:int],\n",
      "     'review_count': [:int],\n",
      "     'title': [:str],\n",
      "     'year': [:int]\n",
      "     }\n",
      "\"\"\"\n",
      "\n",
      "def parsing_detail_page(html):\n",
      "    # your code here "
     ],
     "language": "python",
     "metadata": {},
     "outputs": []
    },
    {
     "cell_type": "code",
     "collapsed": false,
     "input": [
      "# test\n",
      "\"\"\"\n",
      "Expected Result\n",
      "--> \n",
      "{\n",
      "'duration': 169,\n",
      " 'genre': [u'Adventure', u'Drama', u'Sci-Fi'],\n",
      " 'rating': 8.6,\n",
      " 'rating_count': 856762,\n",
      " 'review_count': 2668,\n",
      " 'title': u'Interstellar',\n",
      " 'year': 2014\n",
      "}\n",
      "\"\"\"\n",
      "parsing_detail_page(test_html)"
     ],
     "language": "python",
     "metadata": {},
     "outputs": []
    },
    {
     "cell_type": "markdown",
     "metadata": {},
     "source": [
      "### Problem 3\n",
      "\n",
      "\uc774\uc81c \ud2b9\uc815 \uc601\ud654\uc758 \uc0c1\uc138\ud398\uc774\uc9c0\ub97c \uc218\uc9d1\ud560 \uc218 \uc788\uac8c \ub418\uc5c8\ub2e4.\n",
      "\ud558\uc9c0\ub9cc \ud574\ub2f9 \uc601\ud654\uc758 movie_id\ub97c \uc544\ub294 \uacbd\uc6b0\uc5d0 \ud55c\ud574\uc11c\ub9cc \ub370\uc774\ud130\ub97c \uc218\uc9d1\ud560 \uc218 \uc788\ub294 \uc81c\uc57d\uc870\uac74\uc774 \uc788\uc74c.\n",
      "\n",
      "\ub354 \ub9ce\uc740 \ub370\uc774\ud130\ub97c \uc218\uc9d1\ud558\uae30\uc704\ud574 movie_id \uc14b\uc744 \uc54c\uc544\uc57c\ud558\uba70, \uc6b0\ub9ac\ub294 \uc5f0\ub3c4\ubcc4 \uc601\ud654\ubaa9\ub85d \ud398\uc774\uc9c0\uc5d0\uc11c \uc218\ub9ce\uc740 movie_id\ub97c \uc5bb\uc744 \uc218 \uc788\uc74c. (\uc601\ud654\ub4e4\uc740 \uc778\uae30\ub3c4 \uc21c\uc73c\ub85c \uc815\ub82c\ub418\uc5b4\uc788\uc74c)\n",
      "\n",
      "|Year | Page | Search URL |\n",
      "|----------|-------------|--------------------------|\n",
      "|2016|1 |http://www.imdb.com/search/title?title_type=featurerelease_date=2016|\n",
      "|2016|2 |http://www.imdb.com/search/title?title_type=featurerelease_date=2016&start=51|\n",
      "|2016|3 |http://www.imdb.com/search/title?title_type=featurerelease_date=2016&start=101|\n",
      "|2016|...|...|\n",
      "|2015|1|http://www.imdb.com/search/title?title_type=featurerelease_date=2015|\n",
      "|2015|2|http://www.imdb.com/search/title?title_type=featurerelease_date=2015&start=51|\n",
      "|2015|...|...|\n",
      "|2014|1|http://www.imdb.com/search/title?title_type=featurerelease_date=2014|\n",
      "| .... | ....| ... |\n",
      "\n",
      "\uc5f0\ub3c4\ubcc4 \uc601\ud654 \uac80\uc0c9 \uacb0\uacfc \ud398\uc774\uc9c0\uc5d0\uc11c movie_id \uc14b\uc744 \ucd94\ucd9c\ud558\ub294 \ud568\uc218\ub97c \uad6c\ud604."
     ]
    },
    {
     "cell_type": "code",
     "collapsed": false,
     "input": [
      "\"\"\"\n",
      "@Function\n",
      "parsing_year_page\n",
      "\n",
      "Given a year, fetch serach result page and return the movie ids in that search page\n",
      "\n",
      "@Inputs\n",
      "---\n",
      "year: int\n",
      "    the year in which you want to search\n",
      "    \n",
      "page: int (optional, default=1)\n",
      "    the page of the search page in that year\n",
      "\n",
      "@Returns\n",
      "---\n",
      "movie_ids: array\n",
      "\"\"\"\n",
      "\n",
      "# each page has 50 movies sorted by popularity\n",
      "def get_movie_ids_in_year(year, page=1):    \n",
      "    # your code here "
     ],
     "language": "python",
     "metadata": {},
     "outputs": []
    },
    {
     "cell_type": "code",
     "collapsed": false,
     "input": [
      "# test\n",
      "\"\"\"\n",
      "Expected Result\n",
      "--> [u'tt1524930',\n",
      "     u'tt4178092',\n",
      "     u'tt1781922',\n",
      "     u'tt1655441',\n",
      "     u'tt2140379',\n",
      "     u'tt4270516', ....]\n",
      "\"\"\"\n",
      "get_movie_ids_in_year(2015, 3)"
     ],
     "language": "python",
     "metadata": {},
     "outputs": []
    },
    {
     "cell_type": "markdown",
     "metadata": {},
     "source": [
      "\uc55e\uc11c \uad6c\ud604\ud55c \ud568\uc218\ub4e4\uc744 \uc870\ud569\ud558\uc5ec, 2000~2014\ub144 \uac01\uac01\uc758 top 150\uc601\ud654\ub97c \uc218\uc9d1.\n",
      "\n",
      "\ud30c\uc11c\ub97c \uad6c\ud604\ud558\uae30\uc704\ud574 \uc0ac\uc6a9\ud55c test html template\uacfc \ub2e4\ub978 \ud398\uc774\uc9c0\ub4e4\uc774 \uc874\uc7ac\ud558\ub294\uc9c0 \ud655\uc778\ud574 \ubcfc \uc218 \uc788\ub2e4.\n",
      "\n",
      "**!!! Caution: Below process needs a long time to finish** >> \n",
      "Don't run below code and jsut ownload [data](https://github.com/MinhwanYu/cose471_2016/blob/master/data/imdb_cose471_sample.json)"
     ]
    },
    {
     "cell_type": "code",
     "collapsed": false,
     "input": [
      "years = range(2000, 2015) # 2000 ~ 2014\n",
      "pages = [1,2,3]\n",
      "\n",
      "def get_data(years, pages=[1]):\n",
      "    movie_ids = [movie_id\n",
      "                 for year in years\n",
      "                 for page in pages\n",
      "                 for movie_id in get_movie_ids_in_year(year, page)]\n",
      "    \n",
      "    data = { movie_id : parsing_detail_page(get_movie_detaill_page(movie_id))\n",
      "            for movie_id in movie_ids}\n",
      "    \n",
      "    return data"
     ],
     "language": "python",
     "metadata": {},
     "outputs": []
    },
    {
     "cell_type": "code",
     "collapsed": false,
     "input": [
      "# \ub2e4\uc6b4\ubc1b\uc544\uc11c \ud558\uc2dc\uc624 -> \ub9c1\ud06c\n",
      "data = get_data(years, pages)"
     ],
     "language": "python",
     "metadata": {},
     "outputs": []
    },
    {
     "cell_type": "code",
     "collapsed": false,
     "input": [
      "# save crawling dump data\n",
      "import json\n",
      "data_str = json.dumps(data)\n",
      "f = open('data/imdb_cose471_sample.json', 'a')\n",
      "f.write(data_str)\n",
      "f.close()"
     ],
     "language": "python",
     "metadata": {},
     "outputs": []
    },
    {
     "cell_type": "markdown",
     "metadata": {},
     "source": [
      "Load the downloaded dump data"
     ]
    },
    {
     "cell_type": "code",
     "collapsed": false,
     "input": [
      "# load dump crawling data\n",
      "f = open('data/imdb_cose471_sample.json')\n",
      "c = f.read()\n",
      "f.close()\n",
      "\n",
      "data = json.loads(c)"
     ],
     "language": "python",
     "metadata": {},
     "outputs": []
    },
    {
     "cell_type": "markdown",
     "metadata": {},
     "source": [
      "# Data Explore: Aggregation and Visualization"
     ]
    },
    {
     "cell_type": "code",
     "collapsed": false,
     "input": [
      "import pandas as pd\n",
      "\n",
      "movies = pd.DataFrame(data)\n",
      "movies = movies.transpose()"
     ],
     "language": "python",
     "metadata": {},
     "outputs": []
    },
    {
     "cell_type": "markdown",
     "metadata": {},
     "source": [
      "### Problem 4.1\n",
      "\n",
      "\uc5f0\ub3c4\ubcc4\ub85c \ub370\uc774\ud130\ub97c grouping \ud569\uce58\uc2dc\uc624.\n",
      "\n",
      ".describe() \uc2dc \uc608\uc0c1 \uacb0\uacfc\n",
      "\n",
      "|        |              |duration | rating | rating_count | review_count | title |\n",
      "|-----------|-------------------|------------------|--------------|---------------------------|----------------------------|-----------|\n",
      "|__year__  | | | | | ||\n",
      "|__2000__| __count__ | 150 | 150.0 | 150 | 150|150|\n",
      "|| __unique__ | 61 | 47.0 | 150 | 130 |150|\n",
      "|| __top__ | 90 | 7.3 | 17151| 89 |The Adventures of Rocky &amp; Bullwinkle|\n",
      "|| __freq__ | 7 | 8.0 | 1 | 3 |1|\n",
      "|__2001__| __count__ | 150 | 150.0 | 150 | 150|150|\n",
      "|....|....|....|....|....|....|....|"
     ]
    },
    {
     "cell_type": "code",
     "collapsed": false,
     "input": [
      "year_group_movies = None\n",
      "#your code hear\n",
      "\n",
      "year_group_movies.describe()"
     ],
     "language": "python",
     "metadata": {},
     "outputs": []
    },
    {
     "cell_type": "markdown",
     "metadata": {},
     "source": [
      "### Problem 4.2\n",
      "\n",
      "\uc5f0\ub3c4\ubcc4 \ucd5c\ub300, \ucd5c\uc18c, \ud3c9\uade0 \ub9ac\ubdf0\uc218\ub97c \uad6c\ud558\uc2dc\uc624."
     ]
    },
    {
     "cell_type": "code",
     "collapsed": false,
     "input": [
      "#your code hear"
     ],
     "language": "python",
     "metadata": {},
     "outputs": []
    },
    {
     "cell_type": "code",
     "collapsed": false,
     "input": [
      "%matplotlib inline\n",
      "import matplotlib.pyplot as plt"
     ],
     "language": "python",
     "metadata": {},
     "outputs": []
    },
    {
     "cell_type": "markdown",
     "metadata": {},
     "source": [
      "### Problem 4.3\n",
      "\n",
      " '\uc5f0\ub3c4'\ub97c x\ucd95\uc73c\ub85c\ud558\ub294 \ub9ac\ubdf0\uc218 max, mean \uc218\uce58 \ub370\uc774\ud130\ub97c \uadf8\ub9ac\uc2dc\uc624"
     ]
    },
    {
     "cell_type": "code",
     "collapsed": false,
     "input": [
      "#your code hear"
     ],
     "language": "python",
     "metadata": {},
     "outputs": []
    }
   ],
   "metadata": {}
  }
 ]
}